{
 "cells": [
  {
   "cell_type": "markdown",
   "id": "582ea66d-3b5a-4ba1-b015-76cefd49f95a",
   "metadata": {},
   "source": [
    "## Introduction\n",
    "For this project, our task was to find the best Pittsburgh neighborhood based on a certain metric! Our chosen metric is which neighborhood is best to be in outside in! We came up with this idea by first each picking our own data set that we were interested in. We ended up choosing data sets based on car accidents, registered dogs, and public art displays. Once we had these submetrics we tried to come up with an overall metric that we thought fit all of these well. At first we considered pedestrian safety as an overall metric, but ultimately landed on outdoor-appeal, as we thought this was a more unique and fun metric!"
   ]
  },
  {
   "cell_type": "markdown",
   "id": "5416468f-ae51-400f-92a3-2da3dcb8c608",
   "metadata": {},
   "source": [
    "## Our Metric\n",
    "As stated above, our metric is based on which neighboorhood is best for spending time outside!"
   ]
  },
  {
   "cell_type": "code",
   "execution_count": null,
   "id": "2e760404-1e39-40b7-86ce-93fe9c5f72fd",
   "metadata": {},
   "outputs": [],
   "source": []
  }
 ],
 "metadata": {
  "kernelspec": {
   "display_name": "Python 3 (ipykernel)",
   "language": "python",
   "name": "python3"
  },
  "language_info": {
   "codemirror_mode": {
    "name": "ipython",
    "version": 3
   },
   "file_extension": ".py",
   "mimetype": "text/x-python",
   "name": "python",
   "nbconvert_exporter": "python",
   "pygments_lexer": "ipython3",
   "version": "3.11.5"
  }
 },
 "nbformat": 4,
 "nbformat_minor": 5
}
